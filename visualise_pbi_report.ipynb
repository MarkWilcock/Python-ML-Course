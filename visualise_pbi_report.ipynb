{
 "cells": [
  {
   "attachments": {},
   "cell_type": "markdown",
   "metadata": {},
   "source": [
    "See article at https://powerbi.microsoft.com/en-us/blog/create-power-bi-reports-in-jupyter-notebooks/"
   ]
  },
  {
   "cell_type": "code",
   "execution_count": 4,
   "metadata": {},
   "outputs": [],
   "source": [
    "import pandas as pd\n",
    "from powerbiclient import QuickVisualize, get_dataset_config, Report\n",
    "from powerbiclient.authentication import DeviceCodeLoginAuthentication"
   ]
  },
  {
   "cell_type": "code",
   "execution_count": 5,
   "metadata": {},
   "outputs": [
    {
     "data": {
      "text/html": [
       "<div>\n",
       "<style scoped>\n",
       "    .dataframe tbody tr th:only-of-type {\n",
       "        vertical-align: middle;\n",
       "    }\n",
       "\n",
       "    .dataframe tbody tr th {\n",
       "        vertical-align: top;\n",
       "    }\n",
       "\n",
       "    .dataframe thead th {\n",
       "        text-align: right;\n",
       "    }\n",
       "</style>\n",
       "<table border=\"1\" class=\"dataframe\">\n",
       "  <thead>\n",
       "    <tr style=\"text-align: right;\">\n",
       "      <th></th>\n",
       "      <th>Passenger Id</th>\n",
       "      <th>Survival</th>\n",
       "      <th>Surname</th>\n",
       "      <th>Other Names</th>\n",
       "      <th>Title</th>\n",
       "      <th>Passenger Class</th>\n",
       "      <th>Gender</th>\n",
       "      <th>Embarked</th>\n",
       "      <th>FareBand</th>\n",
       "      <th>FamilySize</th>\n",
       "      <th>Age (bins)</th>\n",
       "      <th>Age</th>\n",
       "      <th>Adult Or Child</th>\n",
       "      <th>Is Age Missing</th>\n",
       "    </tr>\n",
       "  </thead>\n",
       "  <tbody>\n",
       "    <tr>\n",
       "      <th>0</th>\n",
       "      <td>1</td>\n",
       "      <td>Died</td>\n",
       "      <td>Brewe</td>\n",
       "      <td>Arthur Jackson</td>\n",
       "      <td>Dr</td>\n",
       "      <td>1st</td>\n",
       "      <td>male</td>\n",
       "      <td>Cherbourg</td>\n",
       "      <td>30 - above</td>\n",
       "      <td>1</td>\n",
       "      <td>NaN</td>\n",
       "      <td>NaN</td>\n",
       "      <td>Not Known</td>\n",
       "      <td>Missing</td>\n",
       "    </tr>\n",
       "    <tr>\n",
       "      <th>1</th>\n",
       "      <td>1</td>\n",
       "      <td>Survived</td>\n",
       "      <td>Fleming</td>\n",
       "      <td>Margaret</td>\n",
       "      <td>Miss</td>\n",
       "      <td>1st</td>\n",
       "      <td>female</td>\n",
       "      <td>Cherbourg</td>\n",
       "      <td>30 - above</td>\n",
       "      <td>1</td>\n",
       "      <td>NaN</td>\n",
       "      <td>NaN</td>\n",
       "      <td>Not Known</td>\n",
       "      <td>Missing</td>\n",
       "    </tr>\n",
       "  </tbody>\n",
       "</table>\n",
       "</div>"
      ],
      "text/plain": [
       "   Passenger Id  Survival  Surname     Other Names Title Passenger Class   \n",
       "0             1      Died    Brewe  Arthur Jackson    Dr             1st  \\\n",
       "1             1  Survived  Fleming        Margaret  Miss             1st   \n",
       "\n",
       "   Gender   Embarked    FareBand  FamilySize  Age (bins)  Age Adult Or Child   \n",
       "0    male  Cherbourg  30 - above           1         NaN  NaN      Not Known  \\\n",
       "1  female  Cherbourg  30 - above           1         NaN  NaN      Not Known   \n",
       "\n",
       "  Is Age Missing  \n",
       "0        Missing  \n",
       "1        Missing  "
      ]
     },
     "execution_count": 5,
     "metadata": {},
     "output_type": "execute_result"
    }
   ],
   "source": [
    "titanic_url = 'https://raw.githubusercontent.com/MarkWilcock/CourseDatasets/main/Misc%20Datasets/Titanic%20Passenger.csv'\n",
    "df = pd.read_csv(titanic_url) # read the data\n",
    "df.head(2)"
   ]
  },
  {
   "cell_type": "code",
   "execution_count": 6,
   "metadata": {},
   "outputs": [
    {
     "name": "stdout",
     "output_type": "stream",
     "text": [
      "Performing device flow authentication. Please follow the instructions below.\n",
      "To sign in, use a web browser to open the page https://microsoft.com/devicelogin and enter the code D6T7TDX43 to authenticate.\n",
      "\n",
      "Device flow authentication successfully completed.\n",
      "You are now logged in .\n",
      "\n",
      "The result should be passed only to trusted code in your notebook.\n"
     ]
    }
   ],
   "source": [
    "device_auth = DeviceCodeLoginAuthentication()"
   ]
  },
  {
   "cell_type": "code",
   "execution_count": null,
   "metadata": {},
   "outputs": [],
   "source": [
    "# Create a Power BI report from your data\n",
    "PBI_visualize = QuickVisualize(get_dataset_config(df), auth=device_auth)\n",
    "\n",
    "# Render the new report\n",
    "# Set new width and height for the container\n",
    "PBI_visualize.set_size(400, 800)\n",
    "PBI_visualize"
   ]
  },
  {
   "cell_type": "code",
   "execution_count": 9,
   "metadata": {},
   "outputs": [
    {
     "data": {
      "application/vnd.jupyter.widget-view+json": {
       "model_id": "0b43171f8fbe4c968323f95482cc93c1",
       "version_major": 2,
       "version_minor": 0
      },
      "text/plain": [
       "Report()"
      ]
     },
     "execution_count": 9,
     "metadata": {},
     "output_type": "execute_result"
    }
   ],
   "source": [
    "group_id = \"3427d4a2-edc3-49a2-939f-c024a4417044\"\n",
    "report_id = \"e5bde409-1ae3-4484-a27f-158d261ea71b\"\n",
    "report = Report(group_id=group_id, report_id=report_id, auth=device_auth, width=400, height=800)\n",
    "report"
   ]
  },
  {
   "cell_type": "code",
   "execution_count": 8,
   "metadata": {},
   "outputs": [
    {
     "data": {
      "application/vnd.jupyter.widget-view+json": {
       "model_id": "a6fae6521f474ad9b2c889881d1fa48b",
       "version_major": 2,
       "version_minor": 0
      },
      "text/plain": [
       "Report()"
      ]
     },
     "execution_count": 8,
     "metadata": {},
     "output_type": "execute_result"
    }
   ],
   "source": [
    "report"
   ]
  }
 ],
 "metadata": {
  "kernelspec": {
   "display_name": ".venv",
   "language": "python",
   "name": "python3"
  },
  "language_info": {
   "codemirror_mode": {
    "name": "ipython",
    "version": 3
   },
   "file_extension": ".py",
   "mimetype": "text/x-python",
   "name": "python",
   "nbconvert_exporter": "python",
   "pygments_lexer": "ipython3",
   "version": "3.11.2"
  },
  "orig_nbformat": 4
 },
 "nbformat": 4,
 "nbformat_minor": 2
}
