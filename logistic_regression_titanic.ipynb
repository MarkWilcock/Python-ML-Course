{
 "cells": [
  {
   "cell_type": "markdown",
   "metadata": {},
   "source": [
    "# Logistic Regression Example - Titanic Dataset\n",
    "\n",
    "Predict Survival based on passenger class, sex, fare, embarkation, fare band\n",
    "\n",
    "Steps\n",
    "* Load data into pandas\n",
    "* Clean data (select columns), remove any rows with missing values\n",
    "* Encode data (convert string columns into numbers, required by model). One-hot Ordinal (later) for passenger class\n",
    "* Encode label column (Died ->0, Survived ->1)\n",
    "* Split data into training ands test sections\n",
    "* Build logistic regression model, fit on training data an predict on test data\n",
    "* Evaluate model with a confusion matrix"
   ]
  },
  {
   "cell_type": "code",
   "execution_count": null,
   "metadata": {},
   "outputs": [],
   "source": [
    "import pandas as pd\n",
    "from sklearn.preprocessing import OrdinalEncoder, OneHotEncoder, LabelEncoder\n",
    "from sklearn.compose import ColumnTransformer\n",
    "from sklearn.model_selection import train_test_split\n",
    "from sklearn.linear_model import LogisticRegression\n",
    "from sklearn.metrics import confusion_matrix, accuracy_score, f1_score, classification_report\n"
   ]
  },
  {
   "cell_type": "code",
   "execution_count": null,
   "metadata": {},
   "outputs": [],
   "source": [
    "titanic_url = 'https://raw.githubusercontent.com/MarkWilcock/CourseDatasets/main/Misc%20Datasets/Titanic%20Passenger.csv'\n",
    "df = pd.read_csv(titanic_url) # read the data\n",
    "df.head() # show the first 5 rows"
   ]
  },
  {
   "cell_type": "code",
   "execution_count": null,
   "metadata": {},
   "outputs": [],
   "source": [
    "df_slim = df.loc[:, ['Survival', 'Title','Passenger Class','Gender', 'Embarked', 'FareBand']]\n",
    "df_slim.columns = ['survival', 'title','pass_class','gender', 'embarked', 'fareband']\n",
    "df_slim.head()"
   ]
  },
  {
   "cell_type": "code",
   "execution_count": null,
   "metadata": {},
   "outputs": [],
   "source": [
    "# some quick data quality checks\n",
    "df_slim.describe()\n",
    "df_slim.loc[:, 'embarked'].unique()\n",
    "df_slim.loc[:, 'fareband'].unique()"
   ]
  },
  {
   "cell_type": "markdown",
   "metadata": {},
   "source": [
    "Encode the categorical columns with a one hot encoder"
   ]
  },
  {
   "cell_type": "code",
   "execution_count": null,
   "metadata": {},
   "outputs": [],
   "source": [
    "#category_columns = ['title', 'gender', 'embarked', 'fareband', 'pass_class']\n",
    "category_columns = ['title', 'gender', 'embarked']\n",
    "categorical_encoders = OneHotEncoder(sparse_output=False)"
   ]
  },
  {
   "cell_type": "markdown",
   "metadata": {},
   "source": [
    "Encode the ordinal columns with a ordinal encoder"
   ]
  },
  {
   "cell_type": "code",
   "execution_count": null,
   "metadata": {},
   "outputs": [],
   "source": [
    "passenger_class_values = ['1st', '2nd', '3rd']\n",
    "fareband_values = ['0 - 10', '10 - 20', '20 - 30', '30 - above']\n",
    "ordinal_encoders = OrdinalEncoder(categories=[passenger_class_values, fareband_values]) "
   ]
  },
  {
   "cell_type": "code",
   "execution_count": null,
   "metadata": {},
   "outputs": [],
   "source": [
    "ct = ColumnTransformer(\n",
    "    transformers = [\n",
    "        ('cat', categorical_encoders, category_columns),\n",
    "        ('ord', ordinal_encoders, ['pass_class', 'fareband'])\n",
    "        ], \n",
    "        remainder = 'drop')\n",
    "ct.set_output(transform='pandas')\n",
    "X = ct.fit_transform(df_slim)"
   ]
  },
  {
   "cell_type": "code",
   "execution_count": null,
   "metadata": {},
   "outputs": [],
   "source": [
    "X.columns\n",
    "# X['ord__pass_class'].unique()"
   ]
  },
  {
   "cell_type": "code",
   "execution_count": null,
   "metadata": {},
   "outputs": [],
   "source": [
    "label_encoder = LabelEncoder()\n",
    "y = label_encoder.fit_transform(df_slim.loc[:, 'survival'])\n",
    "y[:5]"
   ]
  },
  {
   "cell_type": "code",
   "execution_count": null,
   "metadata": {},
   "outputs": [],
   "source": [
    "# quick check - decode the labels\n",
    "list(label_encoder.inverse_transform([0,1]))"
   ]
  },
  {
   "cell_type": "code",
   "execution_count": null,
   "metadata": {},
   "outputs": [],
   "source": [
    "# Spilt into train and test datasets\n",
    "X_train, X_test, y_train, y_test = train_test_split(X, y, test_size=0.2, random_state=42)"
   ]
  },
  {
   "cell_type": "code",
   "execution_count": null,
   "metadata": {},
   "outputs": [],
   "source": [
    "# Build and fit the model\n",
    "model = LogisticRegression()\n",
    "model.fit(X_train, y_train)\n",
    "predictions = model.predict(X_test)\n"
   ]
  },
  {
   "cell_type": "code",
   "execution_count": null,
   "metadata": {},
   "outputs": [],
   "source": [
    "#  Evaluate using standard metrics\n",
    "print('Classification Report\\n',  classification_report(y_test, predictions))\n",
    "print(f'f1 score\\n {f1_score(y_test, predictions):3.3f}')\n"
   ]
  },
  {
   "cell_type": "markdown",
   "metadata": {},
   "source": [
    "Understand how well the model is performing with a [confusion matrix](https://en.wikipedia.org/wiki/Confusion_matrix)"
   ]
  },
  {
   "cell_type": "code",
   "execution_count": null,
   "metadata": {},
   "outputs": [],
   "source": [
    "confusion_matrix(y_test, predictions)"
   ]
  }
 ],
 "metadata": {
  "kernelspec": {
   "display_name": ".venv",
   "language": "python",
   "name": "python3"
  },
  "language_info": {
   "codemirror_mode": {
    "name": "ipython",
    "version": 3
   },
   "file_extension": ".py",
   "mimetype": "text/x-python",
   "name": "python",
   "nbconvert_exporter": "python",
   "pygments_lexer": "ipython3",
   "version": "3.11.2"
  }
 },
 "nbformat": 4,
 "nbformat_minor": 2
}
