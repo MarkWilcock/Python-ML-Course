{
 "cells": [
  {
   "cell_type": "markdown",
   "metadata": {},
   "source": [
    "# Logistic Regression Example - Titanic Dataset\n",
    "\n",
    "Predict Survival based on passenger class, sex, fare, embarkation, fare band\n",
    "\n",
    "Steps\n",
    "* Load data into pandas\n",
    "* Clean data (select columns), remove any rows with missing values\n",
    "* Encode data (convert string columns into numbers, required by model). One-hot Ordinal (later) for passenger class\n",
    "* Encode label column (Died ->0, Survived ->1)\n",
    "* Split data into training ands test sections\n",
    "* Build logistic regression model, fit on training data an predict on test data\n",
    "* Evaluate model with a confusion matrix"
   ]
  },
  {
   "cell_type": "code",
   "execution_count": 48,
   "metadata": {},
   "outputs": [],
   "source": [
    "import pandas as pd\n",
    "from sklearn.preprocessing import OrdinalEncoder, OneHotEncoder, LabelEncoder\n",
    "from sklearn.compose import ColumnTransformer\n",
    "from sklearn.model_selection import train_test_split\n",
    "from sklearn.linear_model import LogisticRegression\n",
    "from sklearn.metrics import confusion_matrix, accuracy_score, f1_score, classification_report"
   ]
  },
  {
   "cell_type": "code",
   "execution_count": 49,
   "metadata": {},
   "outputs": [
    {
     "data": {
      "text/html": [
       "<div>\n",
       "<style scoped>\n",
       "    .dataframe tbody tr th:only-of-type {\n",
       "        vertical-align: middle;\n",
       "    }\n",
       "\n",
       "    .dataframe tbody tr th {\n",
       "        vertical-align: top;\n",
       "    }\n",
       "\n",
       "    .dataframe thead th {\n",
       "        text-align: right;\n",
       "    }\n",
       "</style>\n",
       "<table border=\"1\" class=\"dataframe\">\n",
       "  <thead>\n",
       "    <tr style=\"text-align: right;\">\n",
       "      <th></th>\n",
       "      <th>Passenger Id</th>\n",
       "      <th>Survival</th>\n",
       "      <th>Surname</th>\n",
       "      <th>Other Names</th>\n",
       "      <th>Title</th>\n",
       "      <th>Passenger Class</th>\n",
       "      <th>Gender</th>\n",
       "      <th>Embarked</th>\n",
       "      <th>FareBand</th>\n",
       "      <th>FamilySize</th>\n",
       "      <th>Age (bins)</th>\n",
       "      <th>Age</th>\n",
       "      <th>Adult Or Child</th>\n",
       "      <th>Is Age Missing</th>\n",
       "    </tr>\n",
       "  </thead>\n",
       "  <tbody>\n",
       "    <tr>\n",
       "      <th>0</th>\n",
       "      <td>1</td>\n",
       "      <td>Died</td>\n",
       "      <td>Brewe</td>\n",
       "      <td>Arthur Jackson</td>\n",
       "      <td>Dr</td>\n",
       "      <td>1st</td>\n",
       "      <td>male</td>\n",
       "      <td>Cherbourg</td>\n",
       "      <td>30 - above</td>\n",
       "      <td>1</td>\n",
       "      <td>NaN</td>\n",
       "      <td>NaN</td>\n",
       "      <td>Not Known</td>\n",
       "      <td>Missing</td>\n",
       "    </tr>\n",
       "    <tr>\n",
       "      <th>1</th>\n",
       "      <td>1</td>\n",
       "      <td>Survived</td>\n",
       "      <td>Fleming</td>\n",
       "      <td>Margaret</td>\n",
       "      <td>Miss</td>\n",
       "      <td>1st</td>\n",
       "      <td>female</td>\n",
       "      <td>Cherbourg</td>\n",
       "      <td>30 - above</td>\n",
       "      <td>1</td>\n",
       "      <td>NaN</td>\n",
       "      <td>NaN</td>\n",
       "      <td>Not Known</td>\n",
       "      <td>Missing</td>\n",
       "    </tr>\n",
       "  </tbody>\n",
       "</table>\n",
       "</div>"
      ],
      "text/plain": [
       "   Passenger Id  Survival  Surname     Other Names Title Passenger Class   \n",
       "0             1      Died    Brewe  Arthur Jackson    Dr             1st  \\\n",
       "1             1  Survived  Fleming        Margaret  Miss             1st   \n",
       "\n",
       "   Gender   Embarked    FareBand  FamilySize  Age (bins)  Age Adult Or Child   \n",
       "0    male  Cherbourg  30 - above           1         NaN  NaN      Not Known  \\\n",
       "1  female  Cherbourg  30 - above           1         NaN  NaN      Not Known   \n",
       "\n",
       "  Is Age Missing  \n",
       "0        Missing  \n",
       "1        Missing  "
      ]
     },
     "execution_count": 49,
     "metadata": {},
     "output_type": "execute_result"
    }
   ],
   "source": [
    "titanic_url = 'https://raw.githubusercontent.com/MarkWilcock/CourseDatasets/main/Misc%20Datasets/Titanic%20Passenger.csv'\n",
    "df = pd.read_csv(titanic_url) # read the data\n",
    "df.head(2) # show the first 5 rows"
   ]
  },
  {
   "cell_type": "code",
   "execution_count": 50,
   "metadata": {},
   "outputs": [
    {
     "data": {
      "text/html": [
       "<div>\n",
       "<style scoped>\n",
       "    .dataframe tbody tr th:only-of-type {\n",
       "        vertical-align: middle;\n",
       "    }\n",
       "\n",
       "    .dataframe tbody tr th {\n",
       "        vertical-align: top;\n",
       "    }\n",
       "\n",
       "    .dataframe thead th {\n",
       "        text-align: right;\n",
       "    }\n",
       "</style>\n",
       "<table border=\"1\" class=\"dataframe\">\n",
       "  <thead>\n",
       "    <tr style=\"text-align: right;\">\n",
       "      <th></th>\n",
       "      <th>survival</th>\n",
       "      <th>title</th>\n",
       "      <th>pass_class</th>\n",
       "      <th>gender</th>\n",
       "      <th>embarked</th>\n",
       "      <th>fareband</th>\n",
       "    </tr>\n",
       "  </thead>\n",
       "  <tbody>\n",
       "    <tr>\n",
       "      <th>0</th>\n",
       "      <td>Died</td>\n",
       "      <td>Dr</td>\n",
       "      <td>1st</td>\n",
       "      <td>male</td>\n",
       "      <td>Cherbourg</td>\n",
       "      <td>30 - above</td>\n",
       "    </tr>\n",
       "    <tr>\n",
       "      <th>1</th>\n",
       "      <td>Survived</td>\n",
       "      <td>Miss</td>\n",
       "      <td>1st</td>\n",
       "      <td>female</td>\n",
       "      <td>Cherbourg</td>\n",
       "      <td>30 - above</td>\n",
       "    </tr>\n",
       "  </tbody>\n",
       "</table>\n",
       "</div>"
      ],
      "text/plain": [
       "   survival title pass_class  gender   embarked    fareband\n",
       "0      Died    Dr        1st    male  Cherbourg  30 - above\n",
       "1  Survived  Miss        1st  female  Cherbourg  30 - above"
      ]
     },
     "execution_count": 50,
     "metadata": {},
     "output_type": "execute_result"
    }
   ],
   "source": [
    "df_slim = df.loc[:, ['Survival', 'Title','Passenger Class','Gender', 'Embarked', 'FareBand']]\n",
    "df_slim.columns = ['survival', 'title','pass_class','gender', 'embarked', 'fareband']\n",
    "df_slim.head(2)"
   ]
  },
  {
   "cell_type": "markdown",
   "metadata": {},
   "source": [
    "Encode the categorical columns with a one hot encoder"
   ]
  },
  {
   "cell_type": "code",
   "execution_count": 51,
   "metadata": {},
   "outputs": [],
   "source": [
    "#category_columns = ['title', 'gender', 'embarked', 'fareband', 'pass_class']\n",
    "category_columns = ['title', 'gender', 'embarked', 'fareband']\n",
    "categorical_encoders = OneHotEncoder(sparse_output=False)"
   ]
  },
  {
   "cell_type": "code",
   "execution_count": 52,
   "metadata": {},
   "outputs": [],
   "source": [
    "ordinal_columns =  ['pass_class']\n",
    "pass_class_values = ['1st', '2nd', '3rd']\n",
    "#fareband_values = ['0 - 10', '10 - 20', '20 - 30', '30 - above']\n",
    "ordinal_encoders = OrdinalEncoder(categories=[pass_class_values]) "
   ]
  },
  {
   "cell_type": "code",
   "execution_count": 53,
   "metadata": {},
   "outputs": [],
   "source": [
    "ct = ColumnTransformer(transformers = [\n",
    "        ('cat', categorical_encoders, category_columns),\n",
    "        ('ord', ordinal_encoders, ordinal_columns)\n",
    "        ], \n",
    "        remainder = 'drop')\n",
    "ct.set_output(transform='pandas')\n",
    "# X is the standard name for the transformed data of features (independent variables)\n",
    "X = ct.fit_transform(df_slim)"
   ]
  },
  {
   "cell_type": "code",
   "execution_count": 54,
   "metadata": {},
   "outputs": [],
   "source": [
    "label_encoder = LabelEncoder()\n",
    "y = label_encoder.fit_transform(df_slim.loc[:, 'survival'])"
   ]
  },
  {
   "cell_type": "code",
   "execution_count": 55,
   "metadata": {},
   "outputs": [],
   "source": [
    "# Spilt into train and test datasets\n",
    "X_train, X_test, y_train, y_test = train_test_split(X, y, test_size=0.2, random_state=42)"
   ]
  },
  {
   "cell_type": "code",
   "execution_count": 56,
   "metadata": {},
   "outputs": [],
   "source": [
    "# Build and fit the model\n",
    "model = LogisticRegression()\n",
    "model.fit(X_train, y_train)\n",
    "predictions = model.predict(X_test)\n"
   ]
  },
  {
   "cell_type": "code",
   "execution_count": 57,
   "metadata": {},
   "outputs": [
    {
     "name": "stdout",
     "output_type": "stream",
     "text": [
      "Classification Report\n",
      "               precision    recall  f1-score   support\n",
      "\n",
      "           0       0.85      0.85      0.85       114\n",
      "           1       0.74      0.74      0.74        65\n",
      "\n",
      "    accuracy                           0.81       179\n",
      "   macro avg       0.79      0.79      0.79       179\n",
      "weighted avg       0.81      0.81      0.81       179\n",
      "\n",
      "f1 score\n",
      " 0.738\n"
     ]
    }
   ],
   "source": [
    "#  Evaluate using standard metrics\n",
    "print('Classification Report\\n',  classification_report(y_test, predictions))\n",
    "print(f'f1 score\\n {f1_score(y_test, predictions):3.3f}')\n"
   ]
  },
  {
   "cell_type": "markdown",
   "metadata": {},
   "source": [
    "Understand how well the model is performing with a [confusion matrix](https://en.wikipedia.org/wiki/Confusion_matrix)\n"
   ]
  },
  {
   "cell_type": "code",
   "execution_count": 58,
   "metadata": {},
   "outputs": [
    {
     "data": {
      "text/plain": [
       "array([[97, 17],\n",
       "       [17, 48]], dtype=int64)"
      ]
     },
     "execution_count": 58,
     "metadata": {},
     "output_type": "execute_result"
    }
   ],
   "source": [
    "confusion_matrix(y_test, predictions)"
   ]
  }
 ],
 "metadata": {
  "kernelspec": {
   "display_name": ".venv",
   "language": "python",
   "name": "python3"
  },
  "language_info": {
   "codemirror_mode": {
    "name": "ipython",
    "version": 3
   },
   "file_extension": ".py",
   "mimetype": "text/x-python",
   "name": "python",
   "nbconvert_exporter": "python",
   "pygments_lexer": "ipython3",
   "version": "3.11.2"
  }
 },
 "nbformat": 4,
 "nbformat_minor": 2
}
