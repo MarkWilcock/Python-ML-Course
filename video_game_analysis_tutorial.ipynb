{
 "cells": [
  {
   "attachments": {},
   "cell_type": "markdown",
   "metadata": {},
   "source": [
    "Tutorial based on  Python Machine Learning Tutorial (Data Science) mProgramming with Mosh https://www.youtube.com/watch?v=7eh4d6sabA0 \n",
    "with data from https://www.kaggle.com/datasets/gregorut/videogamesales?resource=download"
   ]
  },
  {
   "cell_type": "code",
   "execution_count": null,
   "metadata": {},
   "outputs": [],
   "source": []
  }
 ],
 "metadata": {
  "language_info": {
   "name": "python"
  },
  "orig_nbformat": 4
 },
 "nbformat": 4,
 "nbformat_minor": 2
}
