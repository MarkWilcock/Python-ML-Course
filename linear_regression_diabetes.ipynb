{
 "cells": [
  {
   "cell_type": "markdown",
   "metadata": {},
   "source": [
    "# Linear Regression Example - Diabetes dataset\n",
    "\n",
    "This lesson uses the [diabetes dataset](course_datasets.md#diabetes).  It is based on the linear regression diabetes tutorial in Section 2.1  of Microsoft's ML for beginners course [here](https://github.com/microsoft/ML-For-Beginners/tree/main/2-Regression/1-Tools).\n"
   ]
  },
  {
   "cell_type": "code",
   "execution_count": 72,
   "metadata": {},
   "outputs": [],
   "source": [
    "import matplotlib.pyplot as plt # for charts\n",
    "import numpy as np\n",
    "# sklearn is the scikit-learn package\n",
    "from sklearn import datasets, linear_model, model_selection"
   ]
  },
  {
   "cell_type": "markdown",
   "metadata": {},
   "source": [
    "The diabetes dataset is an internal sample dataset in the scikit-learn package."
   ]
  },
  {
   "cell_type": "markdown",
   "metadata": {},
   "source": [
    "The X data is the array of independent variables.  The y data is the vector of labels"
   ]
  },
  {
   "cell_type": "code",
   "execution_count": null,
   "metadata": {},
   "outputs": [],
   "source": [
    "X, y = datasets.load_diabetes(return_X_y=True)\n",
    "print('shape of X:', X.shape)\n",
    "print('first row of X:', X[0]) #\n"
   ]
  },
  {
   "cell_type": "markdown",
   "metadata": {},
   "source": [
    "Get all rows, but only 3rd column (which is the BMI value) from the independent variables"
   ]
  },
  {
   "cell_type": "code",
   "execution_count": null,
   "metadata": {},
   "outputs": [],
   "source": [
    "X_BMI = X[:, 2]\n",
    "print('shape of X_BMI:', X_BMI.shape)\n",
    "print('first row of X_BMI:', X_BMI[0]) #\n",
    "print('number of dimensions of X_BMI:', X_BMI.ndim) #\n",
    "\n"
   ]
  },
  {
   "cell_type": "code",
   "execution_count": null,
   "metadata": {},
   "outputs": [],
   "source": [
    "#  Create a 2D array from the 1D array by reshaping it to (-1,1). The matplotlib library expects the data to be in this format.\n",
    "X_BMI_reshaped = X_BMI.reshape((-1,1))\n",
    "print('shape of X_BMI_reshaped:', X_BMI_reshaped.shape)\n",
    "print('first row of X_BMI_reshaped:', X_BMI_reshaped[0]) #\n",
    "print('number of dimensions of X_BMI_reshaped:', X_BMI_reshaped.ndim) #\n"
   ]
  },
  {
   "cell_type": "code",
   "execution_count": null,
   "metadata": {},
   "outputs": [],
   "source": [
    "# spilt into train and test datasets\n",
    "#X_train, X_test, y_train, y_test = model_selection.train_test_split(X_BMI_reshaped, y, test_size=0.33)\n",
    "X_train, X_test, y_train, y_test = model_selection.train_test_split(X, y, test_size=0.33)\n",
    "print('shape of X_train:', X_train.shape, ' y_train:', y_train.shape)\n",
    "print('first row of X_train:', X_train[0], ' y_train:', y_train[0]) #\n",
    "print('number of dimensions of X_train:', X_train.ndim, ' y_train', y_train.ndim )\n"
   ]
  },
  {
   "cell_type": "markdown",
   "metadata": {},
   "source": [
    "Create a linear regression model and train it with the training data set."
   ]
  },
  {
   "cell_type": "code",
   "execution_count": null,
   "metadata": {},
   "outputs": [],
   "source": [
    "#model = linear_model.LinearRegression()\n",
    "model = linear_model.Ridge()\n",
    "model.fit(X_train, y_train)\n",
    "model.coef_, model.intercept_, model"
   ]
  },
  {
   "cell_type": "markdown",
   "metadata": {},
   "source": [
    "Create a prediction using the predict() function on the test data set."
   ]
  },
  {
   "cell_type": "code",
   "execution_count": null,
   "metadata": {},
   "outputs": [],
   "source": [
    "y_pred = model.predict(X_test)\n",
    "print('shape of y_pred:', y_pred.shape)"
   ]
  },
  {
   "cell_type": "markdown",
   "metadata": {},
   "source": [
    "Create a scatterplot of all the X and y test data, \n",
    "Use the prediction to draw a line"
   ]
  },
  {
   "cell_type": "code",
   "execution_count": null,
   "metadata": {},
   "outputs": [],
   "source": [
    "plt.scatter(X_test[:,2], y_test,  color='black')\n",
    "plt.scatter(X_test[:, 2], y_pred,  color='green')\n",
    "#plt.plot(X_test, y_pred, color='blue', linewidth=3)\n",
    "plt.xlabel('Scaled BMIs')\n",
    "plt.ylabel('Disease Progression')\n",
    "plt.title('A Graph Plot Showing Diabetes Progression Against BP')\n",
    "plt.show()"
   ]
  },
  {
   "cell_type": "markdown",
   "metadata": {},
   "source": [
    "Possible Exercise(s): \n",
    "1. Use another column of the X data and do a linear regression\n",
    "1. Score the model i.e. measure the accuracy.  (Code examples are in other lessons)\n",
    "1. Do a multivariate analysis rather than a univariate analysis on this dataset\n",
    "1. Use the [linnerud dataset](https://scikit-learn.org/stable/modules/generated/sklearn.datasets.load_linnerud.html#sklearn.datasets.load_linnerud)\n",
    "\n"
   ]
  },
  {
   "cell_type": "code",
   "execution_count": null,
   "metadata": {},
   "outputs": [],
   "source": [
    "accuracy = model.score(X_test, y_test)\n",
    "accuracy"
   ]
  }
 ],
 "metadata": {
  "kernelspec": {
   "display_name": ".venv",
   "language": "python",
   "name": "python3"
  },
  "language_info": {
   "codemirror_mode": {
    "name": "ipython",
    "version": 3
   },
   "file_extension": ".py",
   "mimetype": "text/x-python",
   "name": "python",
   "nbconvert_exporter": "python",
   "pygments_lexer": "ipython3",
   "version": "3.12.3"
  }
 },
 "nbformat": 4,
 "nbformat_minor": 2
}
